{
 "cells": [
  {
   "cell_type": "code",
   "execution_count": 43,
   "metadata": {},
   "outputs": [],
   "source": [
    "%matplotlib inline\n",
    "\n",
    "import matplotlib.pyplot as plt\n",
    "import numpy as np\n",
    "from math import factorial"
   ]
  },
  {
   "cell_type": "markdown",
   "metadata": {},
   "source": [
    "# De Verjaardagenparadox\n",
    "\n",
    "* Hoe groot is de kans dat in *deze* groep twee personen dezelfde verjaardag hebben?\n",
    "* Hoe groot is de kans dat in een willekeurige groep twee personen dezelfde verjaardag hebben?\n",
    "* Vanaf welk aantal personen is er een 50/50 kans dat twee personen dezelfde verjaardag hebben?\n",
    "* Extra: [Het droevige verhaal over soulmates](https://what-if.xkcd.com/9/)"
   ]
  },
  {
   "cell_type": "markdown",
   "metadata": {},
   "source": [
    "## Dobbelstenen\n",
    "\n",
    "Bij een dobbelsteen is de kans om een '6' te gooien $\\frac{1}{6}$. Elk van de zes vlakken heeft een grote kans. \n",
    "\n",
    "De kans om twee keer na elkaar een '6' te gooien? Dat is het geval bij een zesde, van een zesde van de worpen. Of $\\frac{\\frac{1}{6}}{6} = \\frac{1}{6} \\times \\frac{1}{6} = \\frac{1}{36} = 2.7\\%$.\n",
    "\n",
    "In ons verjaardagsprobleem heeft een persoon de keuze uit 365 mogelijke verjaardagen. We gaan er even van uit dat je verjaardag willekeurig is, en dus heeft elke dag van het jaar evenveel kans.\n"
   ]
  },
  {
   "cell_type": "markdown",
   "metadata": {},
   "source": [
    "## Bob, Tom, en Jerry zijn jarig\n",
    "\n",
    "Stel dat onze groep bestaat uit 3 personen. Bob, Tom, en Jerry. Wat is de kans dat twee van hen dezelfde verjaardag hebben? Dan moeten één van de volgende stellingen waar zijn:\n",
    "\n",
    "* Bob, Tom, EN Jerry hebben dezelfde verjaardag \n",
    "* Alleen Bob en Tom hebben dezelfde verjaardag \n",
    "* Alleen Tom en Jerry hebben dezelfde verjaardag\n",
    "* Alleen Jerry en Bob hebben dezelfde verjaardag\n",
    "\n",
    "De kans dat alleen Bob en Tom dezelfde verjaardag delen is:\n",
    "$ \\frac{365}{365} \\times \\frac{1}{365} \\times \\frac{364}{365}$. Bob heeft de 'keuze' uit de volle 365 dagen. Tom moet dezelfde verjaardag hebben als Bob. Dus hij heeft geen keuze en mag maar 1 van de 365 dagen kiezen. Jerry's verjaardag moet op een andere dag dan die van Bob en Tom vallen. Voor Jerry zijn er 364 mogelijke dagen.\n",
    "\n",
    "Als we alle gevallen op tellen dan krijgen dit monster:\n",
    "$$ P = \\frac{365}{365} \\times \\frac{1}{365} \\times \\frac{1}{365} + \\frac{365}{365} \\times \\frac{1}{365} \\times \\frac{364}{365} + \\frac{365}{365} \\times \\frac{1}{365} \\times \\frac{364}{365} + \\frac{365}{365} \\times \\frac{1}{365} \\times \\frac{364}{365} $$\n",
    "\n",
    "We kunnen het op dezelfde manier uitrekenen voor vier, vijf, of meer personen... maar het wordt al snel heel moeilijk. : /"
   ]
  },
  {
   "cell_type": "code",
   "execution_count": 44,
   "metadata": {
    "scrolled": true
   },
   "outputs": [
    {
     "name": "stdout",
     "output_type": "stream",
     "text": [
      "P = 0.84336%\n"
     ]
    }
   ],
   "source": [
    "p = ((1.0/360.0)*(1.0/360.0))+3*(364.0/(360.0**2))\n",
    "print('P = {0:.5%}'.format(p))"
   ]
  },
  {
   "cell_type": "markdown",
   "metadata": {},
   "source": [
    "## Anders bekeken...\n",
    "\n",
    "Als het probleem vanuit een ander perspectief bekijken wordt het heel wat makkelijker. Wat is de kans dat niemand een gemeenschappelijke verjaardag heeft? Ieders verjaardag valt op een andere dag. Voor onze groep van 3 personen is die kans:\n",
    "$$ \\frac{365}{365} \\times \\frac{364}{365} \\times \\frac{363}{365} $$\n",
    "\n",
    "In een groep van 4 personen:\n",
    "\n",
    "$$ \\frac{365}{365} \\times \\frac{364}{365} \\times \\frac{363}{365} \\times \\frac{362}{365} $$\n",
    "\n",
    "Enzovoort enzoverder. Wil je graag een mooie exotische formule? Here you go:\n",
    "\n",
    "$$ P(\\text{Niemand heeft dezelfde verjaardag}) = \\frac{365!}{365^n \\times (365-n)!}$$\n",
    "\n",
    "*(Het uitroep teken is een speciale notatie, bijvoorbeeld: 5! = 5 x 4 x 3 x 2 x 1. 365! is dan gelijk aan 365 x 364 x 362 ... x 2 x 1)*\n",
    "\n",
    "Maar we wilden eigenlijk het andere geval berekenen? Simpel. Trek het getal dat je bekomt af van '1'. Dit is de kans dat minstens twee personen dezelfde verjaardag hebben.\n",
    "\n",
    "$$ P(\\text{Minstens twee personen hebben dezelfde verjaardag}) = 1 - \\frac{365!}{365^n \\times (365-n)!}$$\n",
    "\n",
    "Skip de rare code op de volgende lijnen ;) Het genereert een toffe grafiek die je eronder kan zien."
   ]
  },
  {
   "cell_type": "code",
   "execution_count": 45,
   "metadata": {},
   "outputs": [],
   "source": [
    "def chance_at_no_birthday_collision(x):\n",
    "    if(x <= 365):\n",
    "        return factorial(365) / ((365**x) * factorial(365-x))\n",
    "    else:\n",
    "        return 0"
   ]
  },
  {
   "cell_type": "code",
   "execution_count": 48,
   "metadata": {},
   "outputs": [],
   "source": [
    "n = range(0, 366, 1)"
   ]
  },
  {
   "cell_type": "code",
   "execution_count": 49,
   "metadata": {
    "scrolled": true
   },
   "outputs": [
    {
     "data": {
      "image/png": "[encoded data removed]",
      "text/plain": [
       "<Figure size 432x288 with 1 Axes>"
      ]
     },
     "metadata": {
      "needs_background": "light"
     },
     "output_type": "display_data"
    }
   ],
   "source": [
    "q = list(map(lambda x: chance_at_no_birthday_collision(x), n))\n",
    "p = list(map(lambda x: 1-x,q))\n",
    "\n",
    "intersections = np.flatnonzero(np.diff(\n",
    "    np.sign(np.asarray(p) - np.asarray(q))\n",
    "))\n",
    "\n",
    "\n",
    "fig, ax = plt.subplots()\n",
    "ax.plot(n, q)\n",
    "ax.plot(n, p)\n",
    "\n",
    "if(intersections.size > 0):\n",
    "    intersection = intersections[0] + 1 # off by one\n",
    "    ax.plot(n[intersection], p[intersection], 'ro')\n",
    "\n",
    "ax.set(\n",
    "    xlabel='Personen', \n",
    "    ylabel='Kans',\n",
    "    title='De Verjaardagenparadox'\n",
    ")\n",
    "ax.grid(linestyle='dotted')\n",
    "\n",
    "plt.show()"
   ]
  },
  {
   "cell_type": "markdown",
   "metadata": {},
   "source": [
    "De blauwe lijn stelt de kans op '**geen** gemeenschappelijke verjaardag' voor. De oranje lijn is dan de kans op 'minstens 2 gemeenschappelijke verjaardagen'.\n",
    "\n",
    "Vanaf 366 personen is de kans op een gemeenschappelijke verjaardag steeds 100%. Dat is logisch, er zijn maar 365 hokjes, dus is er eentje waar minstens 2 personen in zitten.\n",
    "\n",
    "Maar zelfs in een groep van 50 personen is er al een kans van 97%.\n",
    "\n",
    "De twee lijnen snijden elkaar bij 23 personen. Voor 23 personen is kans ongeveer 50%.\n",
    "\n",
    "Hieronder een tabelletje met enkele waarden."
   ]
  },
  {
   "cell_type": "code",
   "execution_count": 42,
   "metadata": {},
   "outputs": [
    {
     "data": {
      "text/html": [
       "<table><tr><td>1</td><td>0.00000%</td></tr><tr><td>5</td><td>2.71356%</td></tr><tr><td>10</td><td>11.69482%</td></tr><tr><td>20</td><td>41.14384%</td></tr><tr><td>23</td><td>50.72972%</td></tr><tr><td>50</td><td>97.03736%</td></tr><tr><td>100</td><td>99.99997%</td></tr><tr><td>365</td><td>100.00000%</td></tr></table>"
      ],
      "text/plain": [
       "<IPython.core.display.HTML object>"
      ]
     },
     "metadata": {},
     "output_type": "display_data"
    }
   ],
   "source": [
    "from IPython.display import HTML, display\n",
    "\n",
    "samples = [1, 5, 10, 20, 23, 50, 100, 365]\n",
    "data = list(map(lambda x: [x, '{0:.5%}'.format(p[x])], samples))\n",
    "\n",
    "display(HTML(\n",
    "    '<table><tr>{}</tr></table>'.format(\n",
    "        '</tr><tr>'.join(\n",
    "            '<td>{}</td>'.format('</td><td>'.join(str(_) for _ in row)) for row in data)\n",
    "        )\n",
    "))"
   ]
  },
  {
   "cell_type": "markdown",
   "metadata": {},
   "source": [
    "# Conclusie\n",
    "\n",
    "Als iemand je vraagt \"Denk je dat er hier 2 personen dezelfde verjaardag hebben?\".. tel dan het aantal personen om je heen. Zijn het er maar dan 23? Ga dan voor 'Ja'."
   ]
  }
 ],
 "metadata": {
  "kernelspec": {
   "display_name": "Python 3",
   "language": "python",
   "name": "python3"
  },
  "language_info": {
   "codemirror_mode": {
    "name": "ipython",
    "version": 3
   },
   "file_extension": ".py",
   "mimetype": "text/x-python",
   "name": "python",
   "nbconvert_exporter": "python",
   "pygments_lexer": "ipython3",
   "version": "3.7.0"
  }
 },
 "nbformat": 4,
 "nbformat_minor": 2
}
